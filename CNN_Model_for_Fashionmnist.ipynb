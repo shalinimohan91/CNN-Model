{
  "nbformat": 4,
  "nbformat_minor": 0,
  "metadata": {
    "colab": {
      "name": "CNN Model for Fashionmnist.ipynb",
      "provenance": []
    },
    "kernelspec": {
      "name": "python3",
      "display_name": "Python 3"
    }
  },
  "cells": [
    {
      "cell_type": "code",
      "metadata": {
        "id": "VzeljI7reuqn",
        "colab_type": "code",
        "colab": {
          "base_uri": "https://localhost:8080/",
          "height": 34
        },
        "outputId": "76d5a208-5d37-4413-a13c-c756f7007de0"
      },
      "source": [
        "import keras\n",
        "from keras.datasets import cifar10\n",
        "from keras.models import Sequential\n",
        "from keras.layers import Conv2D,Flatten,Dense,Dropout,MaxPooling2D\n",
        "from keras import backend as k"
      ],
      "execution_count": null,
      "outputs": [
        {
          "output_type": "stream",
          "text": [
            "Using TensorFlow backend.\n"
          ],
          "name": "stderr"
        }
      ]
    },
    {
      "cell_type": "code",
      "metadata": {
        "id": "jO9OkPWEhu6V",
        "colab_type": "code",
        "colab": {}
      },
      "source": [
        "img_rows,img_cols=32,32"
      ],
      "execution_count": null,
      "outputs": []
    },
    {
      "cell_type": "markdown",
      "metadata": {
        "id": "XHHmNQbK2URN",
        "colab_type": "text"
      },
      "source": [
        "# New Section"
      ]
    },
    {
      "cell_type": "code",
      "metadata": {
        "id": "YNIGYOVUiVa7",
        "colab_type": "code",
        "colab": {
          "base_uri": "https://localhost:8080/",
          "height": 51
        },
        "outputId": "29689325-72a6-404e-d184-4bdc17743893"
      },
      "source": [
        "### Split the data as train and test\n",
        "(x_train,y_train),(x_test,y_test)=cifar10.load_data()"
      ],
      "execution_count": null,
      "outputs": [
        {
          "output_type": "stream",
          "text": [
            "Downloading data from https://www.cs.toronto.edu/~kriz/cifar-10-python.tar.gz\n",
            "170500096/170498071 [==============================] - 4s 0us/step\n"
          ],
          "name": "stdout"
        }
      ]
    },
    {
      "cell_type": "code",
      "metadata": {
        "id": "IqfYd6xXmR-I",
        "colab_type": "code",
        "colab": {
          "base_uri": "https://localhost:8080/",
          "height": 850
        },
        "outputId": "b215c754-5780-4647-f88e-de8da8875356"
      },
      "source": [
        "x_train[1]"
      ],
      "execution_count": null,
      "outputs": [
        {
          "output_type": "execute_result",
          "data": {
            "text/plain": [
              "array([[[154, 177, 187],\n",
              "        [126, 137, 136],\n",
              "        [105, 104,  95],\n",
              "        ...,\n",
              "        [ 91,  95,  71],\n",
              "        [ 87,  90,  71],\n",
              "        [ 79,  81,  70]],\n",
              "\n",
              "       [[140, 160, 169],\n",
              "        [145, 153, 154],\n",
              "        [125, 125, 118],\n",
              "        ...,\n",
              "        [ 96,  99,  78],\n",
              "        [ 77,  80,  62],\n",
              "        [ 71,  73,  61]],\n",
              "\n",
              "       [[140, 155, 164],\n",
              "        [139, 146, 149],\n",
              "        [115, 115, 112],\n",
              "        ...,\n",
              "        [ 79,  82,  64],\n",
              "        [ 68,  70,  55],\n",
              "        [ 67,  69,  55]],\n",
              "\n",
              "       ...,\n",
              "\n",
              "       [[175, 167, 166],\n",
              "        [156, 154, 160],\n",
              "        [154, 160, 170],\n",
              "        ...,\n",
              "        [ 42,  34,  36],\n",
              "        [ 61,  53,  57],\n",
              "        [ 93,  83,  91]],\n",
              "\n",
              "       [[165, 154, 128],\n",
              "        [156, 152, 130],\n",
              "        [159, 161, 142],\n",
              "        ...,\n",
              "        [103,  93,  96],\n",
              "        [123, 114, 120],\n",
              "        [131, 121, 131]],\n",
              "\n",
              "       [[163, 148, 120],\n",
              "        [158, 148, 122],\n",
              "        [163, 156, 133],\n",
              "        ...,\n",
              "        [143, 133, 139],\n",
              "        [143, 134, 142],\n",
              "        [143, 133, 144]]], dtype=uint8)"
            ]
          },
          "metadata": {
            "tags": []
          },
          "execution_count": 4
        }
      ]
    },
    {
      "cell_type": "code",
      "metadata": {
        "id": "zBJ7mCDhivFn",
        "colab_type": "code",
        "colab": {}
      },
      "source": [
        "if k.image_data_format() =='channel_first':\n",
        "    x_train = x_train.reshape(x_train.shape[0],3,img_rows,img_cols)\n",
        "    x_test = x_test.reshape(x_test.shape[0],3,img_rows,img_cols)\n",
        "    input_shape=(3,img_rows,img_cols)\n",
        "else:\n",
        "    x_train = x_train.reshape(x_train.shape[0],img_rows,img_cols,3)\n",
        "    x_test = x_test.reshape(x_test.shape[0],img_rows,img_cols,3)\n",
        "    input_shape=(img_rows,img_cols,3)\n"
      ],
      "execution_count": null,
      "outputs": []
    },
    {
      "cell_type": "code",
      "metadata": {
        "id": "LAUzG7YPqQpL",
        "colab_type": "code",
        "colab": {
          "base_uri": "https://localhost:8080/",
          "height": 34
        },
        "outputId": "da80a9f0-6ff2-4f0d-ed6d-2cf91201a705"
      },
      "source": [
        "x_train.shape"
      ],
      "execution_count": null,
      "outputs": [
        {
          "output_type": "execute_result",
          "data": {
            "text/plain": [
              "(50000, 32, 32, 3)"
            ]
          },
          "metadata": {
            "tags": []
          },
          "execution_count": 6
        }
      ]
    },
    {
      "cell_type": "code",
      "metadata": {
        "id": "Hh7BXeszj6WG",
        "colab_type": "code",
        "colab": {
          "base_uri": "https://localhost:8080/",
          "height": 34
        },
        "outputId": "c57d2160-1125-4b4a-ebb1-56f9d06a8bce"
      },
      "source": [
        "x_train = x_train.astype('float32')\n",
        "x_test = x_test.astype('float32')\n",
        "x_train/=255\n",
        "x_test/=255\n",
        "print(\"reshape image\",x_train.shape[0])"
      ],
      "execution_count": null,
      "outputs": [
        {
          "output_type": "stream",
          "text": [
            "reshape image 50000\n"
          ],
          "name": "stdout"
        }
      ]
    },
    {
      "cell_type": "code",
      "metadata": {
        "id": "y5_wqbhIna2z",
        "colab_type": "code",
        "colab": {
          "base_uri": "https://localhost:8080/",
          "height": 850
        },
        "outputId": "5c8bd666-e36a-410d-beba-bfacc9dddbb9"
      },
      "source": [
        "x_train[1]"
      ],
      "execution_count": null,
      "outputs": [
        {
          "output_type": "execute_result",
          "data": {
            "text/plain": [
              "array([[[0.6039216 , 0.69411767, 0.73333335],\n",
              "        [0.49411765, 0.5372549 , 0.53333336],\n",
              "        [0.4117647 , 0.40784314, 0.37254903],\n",
              "        ...,\n",
              "        [0.35686275, 0.37254903, 0.2784314 ],\n",
              "        [0.34117648, 0.3529412 , 0.2784314 ],\n",
              "        [0.30980393, 0.31764707, 0.27450982]],\n",
              "\n",
              "       [[0.54901963, 0.627451  , 0.6627451 ],\n",
              "        [0.5686275 , 0.6       , 0.6039216 ],\n",
              "        [0.49019608, 0.49019608, 0.4627451 ],\n",
              "        ...,\n",
              "        [0.3764706 , 0.3882353 , 0.30588236],\n",
              "        [0.3019608 , 0.3137255 , 0.24313726],\n",
              "        [0.2784314 , 0.28627452, 0.23921569]],\n",
              "\n",
              "       [[0.54901963, 0.60784316, 0.6431373 ],\n",
              "        [0.54509807, 0.57254905, 0.58431375],\n",
              "        [0.4509804 , 0.4509804 , 0.4392157 ],\n",
              "        ...,\n",
              "        [0.30980393, 0.32156864, 0.2509804 ],\n",
              "        [0.26666668, 0.27450982, 0.21568628],\n",
              "        [0.2627451 , 0.27058825, 0.21568628]],\n",
              "\n",
              "       ...,\n",
              "\n",
              "       [[0.6862745 , 0.654902  , 0.6509804 ],\n",
              "        [0.6117647 , 0.6039216 , 0.627451  ],\n",
              "        [0.6039216 , 0.627451  , 0.6666667 ],\n",
              "        ...,\n",
              "        [0.16470589, 0.13333334, 0.14117648],\n",
              "        [0.23921569, 0.20784314, 0.22352941],\n",
              "        [0.3647059 , 0.3254902 , 0.35686275]],\n",
              "\n",
              "       [[0.64705884, 0.6039216 , 0.5019608 ],\n",
              "        [0.6117647 , 0.59607846, 0.50980395],\n",
              "        [0.62352943, 0.6313726 , 0.5568628 ],\n",
              "        ...,\n",
              "        [0.40392157, 0.3647059 , 0.3764706 ],\n",
              "        [0.48235294, 0.44705883, 0.47058824],\n",
              "        [0.5137255 , 0.4745098 , 0.5137255 ]],\n",
              "\n",
              "       [[0.6392157 , 0.5803922 , 0.47058824],\n",
              "        [0.61960787, 0.5803922 , 0.47843137],\n",
              "        [0.6392157 , 0.6117647 , 0.52156866],\n",
              "        ...,\n",
              "        [0.56078434, 0.52156866, 0.54509807],\n",
              "        [0.56078434, 0.5254902 , 0.5568628 ],\n",
              "        [0.56078434, 0.52156866, 0.5647059 ]]], dtype=float32)"
            ]
          },
          "metadata": {
            "tags": []
          },
          "execution_count": 8
        }
      ]
    },
    {
      "cell_type": "code",
      "metadata": {
        "id": "lAkOWjDbnk18",
        "colab_type": "code",
        "colab": {
          "base_uri": "https://localhost:8080/",
          "height": 34
        },
        "outputId": "94028b67-6857-4db6-eabf-f771939de35a"
      },
      "source": [
        "type(y_train)"
      ],
      "execution_count": null,
      "outputs": [
        {
          "output_type": "execute_result",
          "data": {
            "text/plain": [
              "numpy.ndarray"
            ]
          },
          "metadata": {
            "tags": []
          },
          "execution_count": 9
        }
      ]
    },
    {
      "cell_type": "code",
      "metadata": {
        "id": "WddTyShyoXj3",
        "colab_type": "code",
        "colab": {
          "base_uri": "https://localhost:8080/",
          "height": 136
        },
        "outputId": "3a0ca778-780f-4a65-d8bc-6b0cf825df68"
      },
      "source": [
        "y_train"
      ],
      "execution_count": null,
      "outputs": [
        {
          "output_type": "execute_result",
          "data": {
            "text/plain": [
              "array([[6],\n",
              "       [9],\n",
              "       [9],\n",
              "       ...,\n",
              "       [9],\n",
              "       [1],\n",
              "       [1]], dtype=uint8)"
            ]
          },
          "metadata": {
            "tags": []
          },
          "execution_count": 10
        }
      ]
    },
    {
      "cell_type": "code",
      "metadata": {
        "id": "JBqUg3JWoa2y",
        "colab_type": "code",
        "colab": {}
      },
      "source": [
        "### Convert the class vectors to binary classes\n",
        "## utils. to_categorical is used to convert array of labeled data(from 0 to nb_classes-1) to one-hot vector.\n",
        "y_train = keras.utils.to_categorical(y_train,10)\n",
        "y_test = keras.utils.to_categorical(y_test,10)"
      ],
      "execution_count": null,
      "outputs": []
    },
    {
      "cell_type": "code",
      "metadata": {
        "id": "4NTmSwwho--1",
        "colab_type": "code",
        "colab": {
          "base_uri": "https://localhost:8080/",
          "height": 136
        },
        "outputId": "4a31436c-ebca-41bc-f610-312f632c7bf9"
      },
      "source": [
        "y_train"
      ],
      "execution_count": null,
      "outputs": [
        {
          "output_type": "execute_result",
          "data": {
            "text/plain": [
              "array([[0., 0., 0., ..., 0., 0., 0.],\n",
              "       [0., 0., 0., ..., 0., 0., 1.],\n",
              "       [0., 0., 0., ..., 0., 0., 1.],\n",
              "       ...,\n",
              "       [0., 0., 0., ..., 0., 0., 1.],\n",
              "       [0., 1., 0., ..., 0., 0., 0.],\n",
              "       [0., 1., 0., ..., 0., 0., 0.]], dtype=float32)"
            ]
          },
          "metadata": {
            "tags": []
          },
          "execution_count": 12
        }
      ]
    },
    {
      "cell_type": "code",
      "metadata": {
        "id": "a3aRquM_pA2v",
        "colab_type": "code",
        "colab": {}
      },
      "source": [
        "###Model Initialization\n",
        "model = Sequential()\n",
        "model.add(Conv2D(32,kernel_size=(3,3),activation='relu',input_shape=input_shape))\n",
        "model.add(Conv2D(64,kernel_size=(3,3),activation='relu'))\n",
        "model.add(MaxPooling2D(pool_size=(2,2)))\n",
        "model.add(Flatten())\n",
        "model.add(Dense(128,activation='relu'))\n",
        "model.add(Dense(10,activation='softmax'))\n"
      ],
      "execution_count": null,
      "outputs": []
    },
    {
      "cell_type": "code",
      "metadata": {
        "id": "C9FjRZzmrxlk",
        "colab_type": "code",
        "colab": {}
      },
      "source": [
        "model.compile(loss='categorical_crossentropy',optimizer='adadelta',metrics=['accuracy'])"
      ],
      "execution_count": null,
      "outputs": []
    },
    {
      "cell_type": "code",
      "metadata": {
        "id": "_wvQvSw9sFzQ",
        "colab_type": "code",
        "colab": {
          "base_uri": "https://localhost:8080/",
          "height": 221
        },
        "outputId": "2d3fae63-b481-4647-cc71-7f706fe1e958"
      },
      "source": [
        "model.fit(x_train,y_train,batch_size=10,epochs=5,verbose=1,validation_data=(x_test,y_test))"
      ],
      "execution_count": null,
      "outputs": [
        {
          "output_type": "stream",
          "text": [
            "Train on 50000 samples, validate on 10000 samples\n",
            "Epoch 1/5\n",
            "50000/50000 [==============================] - 264s 5ms/step - loss: 1.2767 - accuracy: 0.5492 - val_loss: 1.0159 - val_accuracy: 0.6508\n",
            "Epoch 2/5\n",
            "50000/50000 [==============================] - 269s 5ms/step - loss: 0.9011 - accuracy: 0.6896 - val_loss: 0.9674 - val_accuracy: 0.6696\n",
            "Epoch 3/5\n",
            "50000/50000 [==============================] - 269s 5ms/step - loss: 0.7306 - accuracy: 0.7496 - val_loss: 0.9061 - val_accuracy: 0.6956\n",
            "Epoch 4/5\n",
            "50000/50000 [==============================] - 268s 5ms/step - loss: 0.5850 - accuracy: 0.8013 - val_loss: 0.9265 - val_accuracy: 0.6924\n",
            "Epoch 5/5\n",
            "50000/50000 [==============================] - 267s 5ms/step - loss: 0.4574 - accuracy: 0.8470 - val_loss: 1.0292 - val_accuracy: 0.6955\n"
          ],
          "name": "stdout"
        },
        {
          "output_type": "execute_result",
          "data": {
            "text/plain": [
              "<keras.callbacks.callbacks.History at 0x7f835c48de48>"
            ]
          },
          "metadata": {
            "tags": []
          },
          "execution_count": 15
        }
      ]
    },
    {
      "cell_type": "code",
      "metadata": {
        "id": "snepeZbXsg7O",
        "colab_type": "code",
        "colab": {}
      },
      "source": [
        "score=model.evaluate(x_test,y_test,verbose=0)"
      ],
      "execution_count": null,
      "outputs": []
    },
    {
      "cell_type": "code",
      "metadata": {
        "id": "N9fwKGxQPFeY",
        "colab_type": "code",
        "colab": {
          "base_uri": "https://localhost:8080/",
          "height": 51
        },
        "outputId": "a23c085e-289b-4c1f-812e-72427466bb87"
      },
      "source": [
        "print(\"test loss :\",score[0])\n",
        "print(\"test accuracy :\",score[1])"
      ],
      "execution_count": null,
      "outputs": [
        {
          "output_type": "stream",
          "text": [
            "test loss : 1.0291788902282715\n",
            "test accuracy : 0.6955000162124634\n"
          ],
          "name": "stdout"
        }
      ]
    },
    {
      "cell_type": "code",
      "metadata": {
        "id": "Dm9tShs3PYc1",
        "colab_type": "code",
        "colab": {}
      },
      "source": [
        "test_pred = model.predict(x_test)"
      ],
      "execution_count": null,
      "outputs": []
    },
    {
      "cell_type": "code",
      "metadata": {
        "id": "_vmsZgLmPx3I",
        "colab_type": "code",
        "colab": {
          "base_uri": "https://localhost:8080/",
          "height": 34
        },
        "outputId": "f4f0d0d6-0d4d-47b6-c04e-13406743cda5"
      },
      "source": [
        "import numpy as np\n",
        "(np.argmax(test_pred,axis=1)!=np.argmax(y_test,axis=1)).sum()"
      ],
      "execution_count": null,
      "outputs": [
        {
          "output_type": "execute_result",
          "data": {
            "text/plain": [
              "3045"
            ]
          },
          "metadata": {
            "tags": []
          },
          "execution_count": 19
        }
      ]
    },
    {
      "cell_type": "code",
      "metadata": {
        "id": "Kz3HeKkwQHir",
        "colab_type": "code",
        "colab": {}
      },
      "source": [
        ""
      ],
      "execution_count": null,
      "outputs": []
    }
  ]
}